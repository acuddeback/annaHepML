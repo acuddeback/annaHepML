{
 "cells": [
  {
   "cell_type": "code",
   "execution_count": 1,
   "metadata": {},
   "outputs": [],
   "source": [
    "# import stuff\n",
    "import numpy as np\n",
    "import pandas as pd\n",
    "import uproot as ur\n",
    "import math\n",
    "from matplotlib import pyplot as plt"
   ]
  },
  {
   "cell_type": "code",
   "execution_count": 2,
   "metadata": {},
   "outputs": [
    {
     "data": {
      "text/plain": [
       "[b'worldTree;31', b'worldTree;30']"
      ]
     },
     "execution_count": 2,
     "metadata": {},
     "output_type": "execute_result"
    }
   ],
   "source": [
    "# get tree\n",
    "file = ur.open(\"small.root\")\n",
    "file.allkeys()"
   ]
  },
  {
   "cell_type": "code",
   "execution_count": 3,
   "metadata": {},
   "outputs": [
    {
     "data": {
      "text/plain": [
       "[b'eve.',\n",
       " b'eve.run_',\n",
       " b'eve.lumi_',\n",
       " b'eve.evt_',\n",
       " b'eve.lepton_pt_',\n",
       " b'eve.lepton_eta_',\n",
       " b'eve.lepton_phi_',\n",
       " b'eve.lepton_e_']"
      ]
     },
     "execution_count": 3,
     "metadata": {},
     "output_type": "execute_result"
    }
   ],
   "source": [
    "# get branch\n",
    "tree = ur.open(\"small.root\")[\"worldTree\"]\n",
    "tree.allkeys()"
   ]
  },
  {
   "cell_type": "code",
   "execution_count": 4,
   "metadata": {},
   "outputs": [],
   "source": [
    "# get branches as arrays\n",
    "leptPt = ur.open(\"small.root\")[\"worldTree\"][\"eve.lepton_pt_\"]\n",
    "leptPt = leptPt.array() # for some reason the leadV function freaks when this is done in one line\n",
    "leptEta = ur.open(\"small.root\")[\"worldTree\"][\"eve.lepton_eta_\"]\n",
    "leptEta = leptEta.array()\n",
    "leptPhi = ur.open(\"small.root\")[\"worldTree\"][\"eve.lepton_phi_\"]\n",
    "leptPhi = leptPhi.array()\n",
    "leptE = ur.open(\"small.root\")[\"worldTree\"][\"eve.lepton_e_\"]\n",
    "leptE = leptE.array()"
   ]
  },
  {
   "cell_type": "code",
   "execution_count": 5,
   "metadata": {},
   "outputs": [],
   "source": [
    "# get indices of leading values\n",
    "def leadInd(_array):\n",
    "    indLead = []\n",
    "    for x in _array:\n",
    "        if(len(x)>1):\n",
    "            indLead.append(np.where(x==max(x)))\n",
    "        else:\n",
    "            indLead.append(0) # add an index of zero to the array bc it'll be irrelevant later anyway\n",
    "    return indLead"
   ]
  },
  {
   "cell_type": "code",
   "execution_count": 6,
   "metadata": {},
   "outputs": [
    {
     "data": {
      "text/plain": [
       "88850"
      ]
     },
     "execution_count": 6,
     "metadata": {},
     "output_type": "execute_result"
    }
   ],
   "source": [
    "leadIs = leadInd(leptPt)\n",
    "len(leadIs)"
   ]
  },
  {
   "cell_type": "code",
   "execution_count": 7,
   "metadata": {},
   "outputs": [],
   "source": [
    "# defines function to get leading values of jagged array from array of leading indices\n",
    "def leadVals(_array,_indexArray):\n",
    "    arrLead = []\n",
    "    ifCount = 0;\n",
    "    elseCount = 0;\n",
    "    i = 0;\n",
    "    for x in _array:\n",
    "        if(len(x)>1):\n",
    "            ifCount +=1\n",
    "            arrLead.append(x[_indexArray[i]])\n",
    "            i+=1\n",
    "        else: \n",
    "            elseCount +=1\n",
    "            arrLead.append(x)\n",
    "            i+=1\n",
    "    print(\"if, else, sum: \", ifCount, \", \",elseCount, \", \", ifCount+elseCount)\n",
    "    return arrLead"
   ]
  },
  {
   "cell_type": "code",
   "execution_count": 8,
   "metadata": {},
   "outputs": [
    {
     "name": "stdout",
     "output_type": "stream",
     "text": [
      "if, else, sum:  46817 ,  42033 ,  88850\n",
      "if, else, sum:  46817 ,  42033 ,  88850\n",
      "if, else, sum:  46817 ,  42033 ,  88850\n",
      "if, else, sum:  46817 ,  42033 ,  88850\n",
      "Number of values in each of Pt:  88850 , Eta:  88850 , Phi:  88850 , E:  88850\n"
     ]
    }
   ],
   "source": [
    "# get array of leading values\n",
    "leadPt = leadVals(leptPt, leadIs)\n",
    "leadEta = leadVals(leptEta, leadIs)\n",
    "leadPhi = leadVals(leptPhi, leadIs)\n",
    "leadE = leadVals(leptE, leadIs)\n",
    "print(\"Number of values in each of Pt: \", len(leadPt), \", Eta: \", len(leadEta), \", Phi: \", len(leadPhi), \", E: \", len(leadE))"
   ]
  },
  {
   "cell_type": "code",
   "execution_count": 9,
   "metadata": {},
   "outputs": [],
   "source": [
    "# defines function to return array of tuples of Ptx and Pty\n",
    "def ptComp(_ptArr, _phiArr):\n",
    "    compArr = []\n",
    "    i = 0;\n",
    "    for x in _ptArr:\n",
    "        pt = x\n",
    "        phi = _phiArr[i]\n",
    "        ptx = math.cos(phi)*pt\n",
    "        pty = math.sin(phi)*pt\n",
    "        compArr.append((ptx,pty))\n",
    "    return compArr"
   ]
  },
  {
   "cell_type": "code",
   "execution_count": null,
   "metadata": {},
   "outputs": [],
   "source": [
    "comps = ptComp(leadPt, leadPhi)\n",
    "len(comps)"
   ]
  },
  {
   "cell_type": "code",
   "execution_count": null,
   "metadata": {},
   "outputs": [],
   "source": []
  },
  {
   "cell_type": "code",
   "execution_count": null,
   "metadata": {},
   "outputs": [],
   "source": []
  }
 ],
 "metadata": {
  "kernelspec": {
   "display_name": "Python 3",
   "language": "python",
   "name": "python3"
  },
  "language_info": {
   "codemirror_mode": {
    "name": "ipython",
    "version": 3
   },
   "file_extension": ".py",
   "mimetype": "text/x-python",
   "name": "python",
   "nbconvert_exporter": "python",
   "pygments_lexer": "ipython3",
   "version": "3.6.5"
  }
 },
 "nbformat": 4,
 "nbformat_minor": 2
}
