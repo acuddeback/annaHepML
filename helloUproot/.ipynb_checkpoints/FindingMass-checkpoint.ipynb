{
 "cells": [
  {
   "cell_type": "code",
   "execution_count": 36,
   "metadata": {},
   "outputs": [],
   "source": [
    "# import stuff\n",
    "import numpy as np\n",
    "import pandas as pd\n",
    "import uproot as ur\n",
    "import math\n",
    "from matplotlib import pyplot as plt"
   ]
  },
  {
   "cell_type": "code",
   "execution_count": 37,
   "metadata": {},
   "outputs": [
    {
     "data": {
      "text/plain": [
       "[b'worldTree;31', b'worldTree;30']"
      ]
     },
     "execution_count": 37,
     "metadata": {},
     "output_type": "execute_result"
    }
   ],
   "source": [
    "# get tree\n",
    "file = ur.open(\"small.root\")\n",
    "file.allkeys()"
   ]
  },
  {
   "cell_type": "code",
   "execution_count": 38,
   "metadata": {},
   "outputs": [
    {
     "data": {
      "text/plain": [
       "[b'eve.',\n",
       " b'eve.run_',\n",
       " b'eve.lumi_',\n",
       " b'eve.evt_',\n",
       " b'eve.lepton_pt_',\n",
       " b'eve.lepton_eta_',\n",
       " b'eve.lepton_phi_',\n",
       " b'eve.lepton_e_']"
      ]
     },
     "execution_count": 38,
     "metadata": {},
     "output_type": "execute_result"
    }
   ],
   "source": [
    "# get branch\n",
    "tree = ur.open(\"small.root\")[\"worldTree\"]\n",
    "tree.allkeys()"
   ]
  },
  {
   "cell_type": "code",
   "execution_count": 39,
   "metadata": {},
   "outputs": [],
   "source": [
    "# get branches as arrays\n",
    "leptPt = ur.open(\"small.root\")[\"worldTree\"][\"eve.lepton_pt_\"]\n",
    "leptPt = leptPt.array() # for some reason the leadV function freaks when this is done in one line\n",
    "leptEta = ur.open(\"small.root\")[\"worldTree\"][\"eve.lepton_eta_\"]\n",
    "leptEta = leptEta.array()\n",
    "leptPhi = ur.open(\"small.root\")[\"worldTree\"][\"eve.lepton_phi_\"]\n",
    "leptPhi = leptPhi.array()\n",
    "leptE = ur.open(\"small.root\")[\"worldTree\"][\"eve.lepton_e_\"]\n",
    "leptE = leptE.array()"
   ]
  },
  {
   "cell_type": "code",
   "execution_count": 40,
   "metadata": {},
   "outputs": [],
   "source": [
    "# get indices of leading values\n",
    "def leadInd(_array):\n",
    "    indLead = []\n",
    "    for x in _array:\n",
    "        if(len(x)>1):\n",
    "            indLead.append(np.where(x==max(x)))\n",
    "        else:\n",
    "            indLead.append(0) # add an index of zero to the array bc it'll be irrelevant later anyway\n",
    "    return indLead"
   ]
  },
  {
   "cell_type": "code",
   "execution_count": 41,
   "metadata": {},
   "outputs": [
    {
     "data": {
      "text/plain": [
       "88850"
      ]
     },
     "execution_count": 41,
     "metadata": {},
     "output_type": "execute_result"
    }
   ],
   "source": [
    "# get indices of leading values\n",
    "leadIs = leadInd(leptPt)\n",
    "len(leadIs)"
   ]
  },
  {
   "cell_type": "code",
   "execution_count": 42,
   "metadata": {},
   "outputs": [],
   "source": [
    "# defines function to get leading values of jagged array from array of leading indices\n",
    "def leadVals(_array,_indexArray):\n",
    "    arrLead = []\n",
    "    ifCount = 0;\n",
    "    elseCount = 0;\n",
    "    i = 0;\n",
    "    for x in _array:\n",
    "        if(len(x)>1):\n",
    "            ifCount +=1\n",
    "            arrLead.append(x[_indexArray[i]])\n",
    "            i+=1\n",
    "        else: \n",
    "            elseCount +=1\n",
    "            arrLead.append(x)\n",
    "            i+=1\n",
    "    print(\"if, else, sum: \", ifCount, \", \",elseCount, \", \", ifCount+elseCount)\n",
    "    return arrLead"
   ]
  },
  {
   "cell_type": "code",
   "execution_count": 43,
   "metadata": {
    "scrolled": true
   },
   "outputs": [
    {
     "name": "stdout",
     "output_type": "stream",
     "text": [
      "if, else, sum:  46817 ,  42033 ,  88850\n",
      "if, else, sum:  46817 ,  42033 ,  88850\n",
      "if, else, sum:  46817 ,  42033 ,  88850\n",
      "if, else, sum:  46817 ,  42033 ,  88850\n",
      "Number of values in each of Pt:  88850 , Eta:  88850 , Phi:  88850 , E:  88850\n"
     ]
    }
   ],
   "source": [
    "# get array of leading values\n",
    "leadPt = leadVals(leptPt, leadIs)\n",
    "leadEta = leadVals(leptEta, leadIs)\n",
    "leadPhi = leadVals(leptPhi, leadIs)\n",
    "leadE = leadVals(leptE, leadIs)\n",
    "print(\"Number of values in each of Pt: \", len(leadPt), \", Eta: \", len(leadEta), \", Phi: \", len(leadPhi), \", E: \", len(leadE))"
   ]
  },
  {
   "cell_type": "code",
   "execution_count": 44,
   "metadata": {},
   "outputs": [],
   "source": [
    "# defines function to return array of tuples of Ptx and Pty\n",
    "def ptXY(_ptArr, _phiArr):\n",
    "    compArr = []\n",
    "    i = 0;\n",
    "    for x in _ptArr:\n",
    "        pt = x\n",
    "        phi = _phiArr[i]\n",
    "        ptx = np.cos(phi)*pt\n",
    "        pty = np.sin(phi)*pt\n",
    "        compArr.append((ptx,pty))\n",
    "    return compArr\n"
   ]
  },
  {
   "cell_type": "code",
   "execution_count": 45,
   "metadata": {},
   "outputs": [
    {
     "data": {
      "text/plain": [
       "88850"
      ]
     },
     "execution_count": 45,
     "metadata": {},
     "output_type": "execute_result"
    }
   ],
   "source": [
    "# get array of types of ptx and pty\n",
    "comps = ptXY(leadPt, leadPhi)\n",
    "len(comps)"
   ]
  },
  {
   "cell_type": "code",
   "execution_count": 46,
   "metadata": {},
   "outputs": [],
   "source": [
    "#define function to find pz from pt and eta\n",
    "def pzPtEta(_pt, _eta):\n",
    "    pz = _pt*np.sinh(_eta)\n",
    "    return pz\n",
    "#define function to get array of (x, y, z) tuples from xyComps and pzArr\n",
    "def ptXYZ(_ptArr, _phiArr, _etaArr): #where _xyComps is an array of (x, y) tuples\n",
    "# make array of tuples (px, py, pz)\n",
    "    compArr = []\n",
    "    for pt, phi, eta in zip(_ptArr, _phiArr, _etaArr):\n",
    "        px = np.cos(phi)*pt\n",
    "        py = np.sin(phi)*pt\n",
    "        pz = pzPtEta(pt, eta)\n",
    "        compArr.append((px, py, pz))\n",
    "    return compArr"
   ]
  },
  {
   "cell_type": "code",
   "execution_count": 47,
   "metadata": {},
   "outputs": [
    {
     "name": "stdout",
     "output_type": "stream",
     "text": [
      "number of (x,y) tuples:  88850\n",
      "(array([-19.5172343]), array([65.36079359]))\n",
      "(array([-20.54256833]), array([68.79450991]))\n",
      "(array([-35.58816387]), array([119.18034071]))\n",
      "(array([-22.60863274]), array([75.71350302]))\n",
      "(array([-27.92800722]), array([93.52742746]))\n"
     ]
    }
   ],
   "source": [
    "# get array of types of ptx and pty\n",
    "xyComps = []\n",
    "xyComps = ptXY(leadPt, leadPhi)\n",
    "print(\"number of (x,y) tuples: \", len(xyComps))\n",
    "\n",
    "# print (x,y)\n",
    "for i in range(5):\n",
    "    print(xyComps[i])"
   ]
  },
  {
   "cell_type": "code",
   "execution_count": 48,
   "metadata": {},
   "outputs": [],
   "source": [
    "# define function to get the magnitude of a vector from a three-tuple of its components\n",
    "def vMag(_x, _y, _z):\n",
    "    vm = np.sqrt((_x**2)+(_y**2)+(_z**2))\n",
    "    return vm\n",
    "\n",
    "def pVals(_xyzCompArray):\n",
    "    pArr = []\n",
    "    for e in _xyzCompArray:\n",
    "        p = vMag(e[0], e[1], e[2])\n",
    "        pArr.append(p)\n",
    "    return pArr\n"
   ]
  },
  {
   "cell_type": "code",
   "execution_count": 49,
   "metadata": {},
   "outputs": [
    {
     "name": "stdout",
     "output_type": "stream",
     "text": [
      "THE FOLLOWING IS RIGHT IF THE X AND Y VALUES MATCH THE ONES FROM ptXY!!\n",
      "(array([-19.5172343]), array([65.36079359]), array([42.07567028]))\n",
      "(array([70.04843035]), array([15.74481223]), array([-51.27474897]))\n",
      "(array([-103.96579839]), array([-68.27579209]), array([-434.94135177]))\n",
      "(array([-65.09672919]), array([-44.78951509]), array([22.67903078]))\n",
      "(array([-68.0117326]), array([-70.01255247]), array([-239.06953713]))\n",
      "[80.14560376]\n",
      "[80.14560376]\n",
      "[88.22574221]\n",
      "[452.37644778]\n",
      "[82.20719707]\n",
      "[258.22780032]\n"
     ]
    }
   ],
   "source": [
    "\n",
    "xyzPComps = ptXYZ(leadPt, leadPhi, leadEta)\n",
    "\n",
    "print(\"THE FOLLOWING IS RIGHT IF THE X AND Y VALUES MATCH THE ONES FROM ptXY!!\")\n",
    "# print (x,y,z)\n",
    "for i in range(5):\n",
    "    print(xyzPComps[i])\n",
    "    \n",
    "print(vMag(xyzPComps[0][0],xyzPComps[0][1], xyzPComps[0][2]))\n",
    "    \n",
    "totalPs = []\n",
    "totalPs = pVals(xyzPComps)\n",
    "\n",
    "for i in range(5):\n",
    "    print(totalPs[i])\n",
    "\n",
    "## End of finding momentum \n",
    "##########################\n"
   ]
  },
  {
   "cell_type": "code",
   "execution_count": 50,
   "metadata": {},
   "outputs": [
    {
     "name": "stdout",
     "output_type": "stream",
     "text": [
      "143108\n"
     ]
    },
    {
     "data": {
      "text/plain": [
       "(array([1.2076e+04, 1.0625e+04, 9.8340e+03, 8.9870e+03, 8.1130e+03,\n",
       "        7.5900e+03, 6.9480e+03, 6.4900e+03, 6.0260e+03, 5.4140e+03,\n",
       "        5.0320e+03, 4.5050e+03, 4.0070e+03, 3.8760e+03, 3.5170e+03,\n",
       "        3.3230e+03, 3.1410e+03, 2.8040e+03, 2.5490e+03, 2.2570e+03,\n",
       "        2.1520e+03, 1.9360e+03, 1.7430e+03, 1.6730e+03, 1.4870e+03,\n",
       "        1.3090e+03, 1.2220e+03, 1.1100e+03, 1.0420e+03, 9.6700e+02,\n",
       "        9.1700e+02, 8.3200e+02, 7.4600e+02, 6.6200e+02, 5.8300e+02,\n",
       "        5.8600e+02, 5.5900e+02, 5.0700e+02, 4.4700e+02, 3.8800e+02,\n",
       "        3.6100e+02, 3.6600e+02, 3.2200e+02, 3.2100e+02, 2.4900e+02,\n",
       "        2.5500e+02, 2.0400e+02, 2.1800e+02, 2.0800e+02, 1.9600e+02,\n",
       "        1.6100e+02, 1.5700e+02, 1.4100e+02, 1.3800e+02, 1.1200e+02,\n",
       "        1.2300e+02, 1.0600e+02, 1.0200e+02, 1.1300e+02, 8.3000e+01,\n",
       "        8.6000e+01, 6.2000e+01, 7.3000e+01, 6.6000e+01, 6.4000e+01,\n",
       "        5.1000e+01, 5.6000e+01, 5.6000e+01, 5.3000e+01, 3.7000e+01,\n",
       "        4.3000e+01, 3.5000e+01, 3.2000e+01, 2.8000e+01, 2.7000e+01,\n",
       "        3.5000e+01, 3.2000e+01, 2.9000e+01, 2.5000e+01, 1.7000e+01,\n",
       "        2.1000e+01, 1.6000e+01, 1.9000e+01, 1.9000e+01, 2.4000e+01,\n",
       "        1.0000e+01, 1.6000e+01, 1.9000e+01, 1.1000e+01, 1.0000e+01,\n",
       "        1.8000e+01, 9.0000e+00, 1.5000e+01, 8.0000e+00, 1.1000e+01,\n",
       "        1.5000e+01, 6.0000e+00, 1.5000e+01, 1.2000e+01, 9.0000e+00]),\n",
       " array([ 15.00010872,  17.84872885,  20.69734898,  23.5459691 ,\n",
       "         26.39458923,  29.24320936,  32.09182949,  34.94044962,\n",
       "         37.78906975,  40.63768988,  43.48631001,  46.33493013,\n",
       "         49.18355026,  52.03217039,  54.88079052,  57.72941065,\n",
       "         60.57803078,  63.42665091,  66.27527103,  69.12389116,\n",
       "         71.97251129,  74.82113142,  77.66975155,  80.51837168,\n",
       "         83.36699181,  86.21561193,  89.06423206,  91.91285219,\n",
       "         94.76147232,  97.61009245, 100.45871258, 103.30733271,\n",
       "        106.15595284, 109.00457296, 111.85319309, 114.70181322,\n",
       "        117.55043335, 120.39905348, 123.24767361, 126.09629374,\n",
       "        128.94491386, 131.79353399, 134.64215412, 137.49077425,\n",
       "        140.33939438, 143.18801451, 146.03663464, 148.88525476,\n",
       "        151.73387489, 154.58249502, 157.43111515, 160.27973528,\n",
       "        163.12835541, 165.97697554, 168.82559566, 171.67421579,\n",
       "        174.52283592, 177.37145605, 180.22007618, 183.06869631,\n",
       "        185.91731644, 188.76593657, 191.61455669, 194.46317682,\n",
       "        197.31179695, 200.16041708, 203.00903721, 205.85765734,\n",
       "        208.70627747, 211.55489759, 214.40351772, 217.25213785,\n",
       "        220.10075798, 222.94937811, 225.79799824, 228.64661837,\n",
       "        231.49523849, 234.34385862, 237.19247875, 240.04109888,\n",
       "        242.88971901, 245.73833914, 248.58695927, 251.4355794 ,\n",
       "        254.28419952, 257.13281965, 259.98143978, 262.83005991,\n",
       "        265.67868004, 268.52730017, 271.3759203 , 274.22454042,\n",
       "        277.07316055, 279.92178068, 282.77040081, 285.61902094,\n",
       "        288.46764107, 291.3162612 , 294.16488132, 297.01350145,\n",
       "        299.86212158]),\n",
       " <a list of 100 Patch objects>)"
      ]
     },
     "execution_count": 50,
     "metadata": {},
     "output_type": "execute_result"
    },
    {
     "data": {
      "image/png": "[encoded data removed]",
      "text/plain": [
       "<Figure size 432x288 with 1 Axes>"
      ]
     },
     "metadata": {},
     "output_type": "display_data"
    }
   ],
   "source": [
    "## PLOT BREAK!!!\n",
    "ptArray = tree[\"eve.lepton_pt_\"].array()\n",
    "myList = []\n",
    "for x in ptArray:\n",
    "    for y in x:\n",
    "        if y < 300:\n",
    "            myList.append(y)\n",
    "\n",
    "print(len(myList))\n",
    "plt.hist(myList, bins=100)"
   ]
  },
  {
   "cell_type": "code",
   "execution_count": 51,
   "metadata": {},
   "outputs": [],
   "source": [
    "# Okay now back to business "
   ]
  },
  {
   "cell_type": "code",
   "execution_count": null,
   "metadata": {},
   "outputs": [],
   "source": [
    "\n"
   ]
  },
  {
   "cell_type": "code",
   "execution_count": null,
   "metadata": {},
   "outputs": [],
   "source": []
  },
  {
   "cell_type": "code",
   "execution_count": null,
   "metadata": {},
   "outputs": [],
   "source": []
  },
  {
   "cell_type": "code",
   "execution_count": null,
   "metadata": {},
   "outputs": [],
   "source": []
  },
  {
   "cell_type": "code",
   "execution_count": null,
   "metadata": {},
   "outputs": [],
   "source": []
  },
  {
   "cell_type": "code",
   "execution_count": null,
   "metadata": {},
   "outputs": [],
   "source": []
  },
  {
   "cell_type": "code",
   "execution_count": null,
   "metadata": {},
   "outputs": [],
   "source": []
  },
  {
   "cell_type": "code",
   "execution_count": null,
   "metadata": {},
   "outputs": [],
   "source": []
  },
  {
   "cell_type": "code",
   "execution_count": null,
   "metadata": {},
   "outputs": [],
   "source": []
  },
  {
   "cell_type": "code",
   "execution_count": null,
   "metadata": {},
   "outputs": [],
   "source": []
  },
  {
   "cell_type": "code",
   "execution_count": null,
   "metadata": {},
   "outputs": [],
   "source": []
  },
  {
   "cell_type": "code",
   "execution_count": null,
   "metadata": {},
   "outputs": [],
   "source": []
  },
  {
   "cell_type": "code",
   "execution_count": null,
   "metadata": {},
   "outputs": [],
   "source": []
  }
 ],
 "metadata": {
  "kernelspec": {
   "display_name": "Python 3",
   "language": "python",
   "name": "python3"
  },
  "language_info": {
   "codemirror_mode": {
    "name": "ipython",
    "version": 3
   },
   "file_extension": ".py",
   "mimetype": "text/x-python",
   "name": "python",
   "nbconvert_exporter": "python",
   "pygments_lexer": "ipython3",
   "version": "3.6.5"
  }
 },
 "nbformat": 4,
 "nbformat_minor": 2
}
