{
 "cells": [
  {
   "cell_type": "code",
   "execution_count": 1,
   "metadata": {},
   "outputs": [],
   "source": [
    "import numpy as np\n",
    "import pandas as pd\n",
    "import uproot as ur\n",
    "from matplotlib import pyplot as plt"
   ]
  },
  {
   "cell_type": "code",
   "execution_count": 2,
   "metadata": {},
   "outputs": [],
   "source": [
    "file = ur.open(\"small.root\")\n",
    "tree = ur.open(\"small.root\")[\"worldTree\"]"
   ]
  },
  {
   "cell_type": "code",
   "execution_count": 3,
   "metadata": {},
   "outputs": [
    {
     "data": {
      "text/plain": [
       "[b'eve.',\n",
       " b'eve.run_',\n",
       " b'eve.lumi_',\n",
       " b'eve.evt_',\n",
       " b'eve.lepton_pt_',\n",
       " b'eve.lepton_eta_',\n",
       " b'eve.lepton_phi_',\n",
       " b'eve.lepton_e_']"
      ]
     },
     "execution_count": 3,
     "metadata": {},
     "output_type": "execute_result"
    }
   ],
   "source": [
    "tree.allkeys()"
   ]
  },
  {
   "cell_type": "code",
   "execution_count": 4,
   "metadata": {},
   "outputs": [],
   "source": [
    "# es = tree[\"eve.lepton_e_\"]"
   ]
  },
  {
   "cell_type": "code",
   "execution_count": 5,
   "metadata": {},
   "outputs": [],
   "source": [
    "# print(es.numentries)"
   ]
  },
  {
   "cell_type": "code",
   "execution_count": 6,
   "metadata": {},
   "outputs": [
    {
     "data": {
      "text/plain": [
       "<matplotlib.legend.Legend at 0x10930a198>"
      ]
     },
     "execution_count": 6,
     "metadata": {},
     "output_type": "execute_result"
    },
    {
     "data": {
      "image/png": "[encoded data removed]",
      "text/plain": [
       "<Figure size 432x288 with 1 Axes>"
      ]
     },
     "metadata": {},
     "output_type": "display_data"
    }
   ],
   "source": [
    "x = [1,2,3,4,5]\n",
    "y = [2,4,6,8,10]\n",
    "plt.plot(x,y)\n",
    "plt.xlabel(\"time\")\n",
    "plt.ylabel(\"position\")\n",
    "plt.title(\"test plot\")\n",
    "plt.legend([\"this is LEGENDary HAHAHAHAHA\"])\n"
   ]
  },
  {
   "cell_type": "code",
   "execution_count": 7,
   "metadata": {},
   "outputs": [
    {
     "data": {
      "text/plain": [
       "[b'eve.',\n",
       " b'eve.run_',\n",
       " b'eve.lumi_',\n",
       " b'eve.evt_',\n",
       " b'eve.lepton_pt_',\n",
       " b'eve.lepton_eta_',\n",
       " b'eve.lepton_phi_',\n",
       " b'eve.lepton_e_']"
      ]
     },
     "execution_count": 7,
     "metadata": {},
     "output_type": "execute_result"
    }
   ],
   "source": [
    "tree.allkeys()"
   ]
  },
  {
   "cell_type": "code",
   "execution_count": 8,
   "metadata": {},
   "outputs": [
    {
     "ename": "NameError",
     "evalue": "name 'es' is not defined",
     "output_type": "error",
     "traceback": [
      "\u001b[0;31m---------------------------------------------------------------------------\u001b[0m",
      "\u001b[0;31mNameError\u001b[0m                                 Traceback (most recent call last)",
      "\u001b[0;32m<ipython-input-8-46eed7f6a973>\u001b[0m in \u001b[0;36m<module>\u001b[0;34m()\u001b[0m\n\u001b[0;32m----> 1\u001b[0;31m \u001b[0mprint\u001b[0m\u001b[0;34m(\u001b[0m\u001b[0mes\u001b[0m\u001b[0;34m)\u001b[0m\u001b[0;34m\u001b[0m\u001b[0m\n\u001b[0m",
      "\u001b[0;31mNameError\u001b[0m: name 'es' is not defined"
     ]
    }
   ],
   "source": [
    "print(es)"
   ]
  },
  {
   "cell_type": "code",
   "execution_count": 9,
   "metadata": {},
   "outputs": [
    {
     "data": {
      "text/plain": [
       "88850"
      ]
     },
     "execution_count": 9,
     "metadata": {},
     "output_type": "execute_result"
    }
   ],
   "source": [
    "tree.numentries\n"
   ]
  },
  {
   "cell_type": "code",
   "execution_count": 12,
   "metadata": {},
   "outputs": [
    {
     "ename": "NameError",
     "evalue": "name 'es' is not defined",
     "output_type": "error",
     "traceback": [
      "\u001b[0;31m---------------------------------------------------------------------------\u001b[0m",
      "\u001b[0;31mNameError\u001b[0m                                 Traceback (most recent call last)",
      "\u001b[0;32m<ipython-input-12-79032832b220>\u001b[0m in \u001b[0;36m<module>\u001b[0;34m()\u001b[0m\n\u001b[0;32m----> 1\u001b[0;31m \u001b[0mes\u001b[0m\u001b[0;34m.\u001b[0m\u001b[0mnumentries\u001b[0m\u001b[0;34m\u001b[0m\u001b[0m\n\u001b[0m",
      "\u001b[0;31mNameError\u001b[0m: name 'es' is not defined"
     ]
    }
   ],
   "source": [
    "es.numentries\n"
   ]
  },
  {
   "cell_type": "code",
   "execution_count": 13,
   "metadata": {},
   "outputs": [
    {
     "data": {
      "text/plain": [
       "<TBranchElement b'eve.lepton_eta_' at 0x0001092d1e48>"
      ]
     },
     "execution_count": 13,
     "metadata": {},
     "output_type": "execute_result"
    }
   ],
   "source": [
    "tree[\"eve.lepton_eta_\"]"
   ]
  },
  {
   "cell_type": "code",
   "execution_count": 14,
   "metadata": {},
   "outputs": [
    {
     "data": {
      "text/plain": [
       "88850"
      ]
     },
     "execution_count": 14,
     "metadata": {},
     "output_type": "execute_result"
    }
   ],
   "source": [
    "tree[\"eve.lepton_phi_\"].numentries\n"
   ]
  },
  {
   "cell_type": "code",
   "execution_count": 15,
   "metadata": {},
   "outputs": [
    {
     "data": {
      "text/plain": [
       "{b'eve.lepton_pt_': <JaggedArray [[68.21257782 65.25063324 23.04133797] [71.79611206] [124.38034821] ... [53.49916458] [17.59859657] [104.22241211]] at 000108d2e6a0>,\n",
       " b'eve.lepton_phi_': <JaggedArray [[ 1.86097527 -2.69247127  1.35770857] [0.22109587] [-2.56051207] ... [0.29853991] [-0.13809359] [2.62993956]] at 000108d2e438>,\n",
       " b'eve.lepton_e_': <JaggedArray [[80.14567346 96.66447675 24.84090547] [88.22580553] [452.37644131] ... [102.34707386] [46.19292887] [145.21694671]] at 000108d2ef98>}"
      ]
     },
     "execution_count": 15,
     "metadata": {},
     "output_type": "execute_result"
    }
   ],
   "source": [
    "tree.arrays([\"eve.lepton_pt_\",\"eve.lepton_phi_\",\"eve.lepton_e_\"])"
   ]
  },
  {
   "cell_type": "code",
   "execution_count": 16,
   "metadata": {},
   "outputs": [
    {
     "data": {
      "text/plain": [
       "{b'eve.lepton_e_': <JaggedArray [[80.14567346 96.66447675 24.84090547] [88.22580553] [452.37644131] ... [102.34707386] [46.19292887] [145.21694671]] at 000108d02dd8>}"
      ]
     },
     "execution_count": 16,
     "metadata": {},
     "output_type": "execute_result"
    }
   ],
   "source": [
    "tree.arrays([\"eve.lepton_e_\"])\n"
   ]
  },
  {
   "cell_type": "code",
   "execution_count": 17,
   "metadata": {},
   "outputs": [],
   "source": [
    "ptArray = tree[\"eve.lepton_pt_\"].array()\n",
    "# print(ptArray[\"eve.lepton_pt_\"])\n",
    "# print(ptArray.keys())\n",
    "# print(ptArray[\"eve.lepton_pt_\"])"
   ]
  },
  {
   "cell_type": "code",
   "execution_count": 18,
   "metadata": {},
   "outputs": [],
   "source": [
    "myList = []\n",
    "for x in ptArray:\n",
    "    for y in x:\n",
    "        if y < 300:\n",
    "            myList.append(y)"
   ]
  },
  {
   "cell_type": "code",
   "execution_count": 19,
   "metadata": {},
   "outputs": [
    {
     "data": {
      "text/plain": [
       "143108"
      ]
     },
     "execution_count": 19,
     "metadata": {},
     "output_type": "execute_result"
    }
   ],
   "source": [
    "len(myList)"
   ]
  },
  {
   "cell_type": "code",
   "execution_count": 24,
   "metadata": {},
   "outputs": [
    {
     "data": {
      "text/plain": [
       "(array([1.2076e+04, 1.0625e+04, 9.8340e+03, 8.9870e+03, 8.1130e+03,\n",
       "        7.5900e+03, 6.9480e+03, 6.4900e+03, 6.0260e+03, 5.4140e+03,\n",
       "        5.0320e+03, 4.5050e+03, 4.0070e+03, 3.8760e+03, 3.5170e+03,\n",
       "        3.3230e+03, 3.1410e+03, 2.8040e+03, 2.5490e+03, 2.2570e+03,\n",
       "        2.1520e+03, 1.9360e+03, 1.7430e+03, 1.6730e+03, 1.4870e+03,\n",
       "        1.3090e+03, 1.2220e+03, 1.1100e+03, 1.0420e+03, 9.6700e+02,\n",
       "        9.1700e+02, 8.3200e+02, 7.4600e+02, 6.6200e+02, 5.8300e+02,\n",
       "        5.8600e+02, 5.5900e+02, 5.0700e+02, 4.4700e+02, 3.8800e+02,\n",
       "        3.6100e+02, 3.6600e+02, 3.2200e+02, 3.2100e+02, 2.4900e+02,\n",
       "        2.5500e+02, 2.0400e+02, 2.1800e+02, 2.0800e+02, 1.9600e+02,\n",
       "        1.6100e+02, 1.5700e+02, 1.4100e+02, 1.3800e+02, 1.1200e+02,\n",
       "        1.2300e+02, 1.0600e+02, 1.0200e+02, 1.1300e+02, 8.3000e+01,\n",
       "        8.6000e+01, 6.2000e+01, 7.3000e+01, 6.6000e+01, 6.4000e+01,\n",
       "        5.1000e+01, 5.6000e+01, 5.6000e+01, 5.3000e+01, 3.7000e+01,\n",
       "        4.3000e+01, 3.5000e+01, 3.2000e+01, 2.8000e+01, 2.7000e+01,\n",
       "        3.5000e+01, 3.2000e+01, 2.9000e+01, 2.5000e+01, 1.7000e+01,\n",
       "        2.1000e+01, 1.6000e+01, 1.9000e+01, 1.9000e+01, 2.4000e+01,\n",
       "        1.0000e+01, 1.6000e+01, 1.9000e+01, 1.1000e+01, 1.0000e+01,\n",
       "        1.8000e+01, 9.0000e+00, 1.5000e+01, 8.0000e+00, 1.1000e+01,\n",
       "        1.5000e+01, 6.0000e+00, 1.5000e+01, 1.2000e+01, 9.0000e+00]),\n",
       " array([ 15.00010872,  17.84872885,  20.69734898,  23.5459691 ,\n",
       "         26.39458923,  29.24320936,  32.09182949,  34.94044962,\n",
       "         37.78906975,  40.63768988,  43.48631001,  46.33493013,\n",
       "         49.18355026,  52.03217039,  54.88079052,  57.72941065,\n",
       "         60.57803078,  63.42665091,  66.27527103,  69.12389116,\n",
       "         71.97251129,  74.82113142,  77.66975155,  80.51837168,\n",
       "         83.36699181,  86.21561193,  89.06423206,  91.91285219,\n",
       "         94.76147232,  97.61009245, 100.45871258, 103.30733271,\n",
       "        106.15595284, 109.00457296, 111.85319309, 114.70181322,\n",
       "        117.55043335, 120.39905348, 123.24767361, 126.09629374,\n",
       "        128.94491386, 131.79353399, 134.64215412, 137.49077425,\n",
       "        140.33939438, 143.18801451, 146.03663464, 148.88525476,\n",
       "        151.73387489, 154.58249502, 157.43111515, 160.27973528,\n",
       "        163.12835541, 165.97697554, 168.82559566, 171.67421579,\n",
       "        174.52283592, 177.37145605, 180.22007618, 183.06869631,\n",
       "        185.91731644, 188.76593657, 191.61455669, 194.46317682,\n",
       "        197.31179695, 200.16041708, 203.00903721, 205.85765734,\n",
       "        208.70627747, 211.55489759, 214.40351772, 217.25213785,\n",
       "        220.10075798, 222.94937811, 225.79799824, 228.64661837,\n",
       "        231.49523849, 234.34385862, 237.19247875, 240.04109888,\n",
       "        242.88971901, 245.73833914, 248.58695927, 251.4355794 ,\n",
       "        254.28419952, 257.13281965, 259.98143978, 262.83005991,\n",
       "        265.67868004, 268.52730017, 271.3759203 , 274.22454042,\n",
       "        277.07316055, 279.92178068, 282.77040081, 285.61902094,\n",
       "        288.46764107, 291.3162612 , 294.16488132, 297.01350145,\n",
       "        299.86212158]),\n",
       " <a list of 100 Patch objects>)"
      ]
     },
     "execution_count": 24,
     "metadata": {},
     "output_type": "execute_result"
    },
    {
     "data": {
      "image/png": "[encoded data removed]",
      "text/plain": [
       "<Figure size 432x288 with 1 Axes>"
      ]
     },
     "metadata": {},
     "output_type": "display_data"
    }
   ],
   "source": [
    "plt.hist(myList, bins=100)"
   ]
  },
  {
   "cell_type": "code",
   "execution_count": 21,
   "metadata": {},
   "outputs": [
    {
     "data": {
      "text/plain": [
       "88850"
      ]
     },
     "execution_count": 21,
     "metadata": {},
     "output_type": "execute_result"
    }
   ],
   "source": [
    "tree[\"eve.lepton_pt_\"].numentries"
   ]
  },
  {
   "cell_type": "code",
   "execution_count": 123,
   "metadata": {
    "scrolled": true
   },
   "outputs": [
    {
     "name": "stdout",
     "output_type": "stream",
     "text": [
      "<TBranchElement b'eve.lepton_pt_' at 0x000118d20ef0>\n"
     ]
    },
    {
     "data": {
      "text/plain": [
       "88850"
      ]
     },
     "execution_count": 123,
     "metadata": {},
     "output_type": "execute_result"
    }
   ],
   "source": [
    "ptArray = uproot.open(\"small.root\")[\"worldTree\"][\"eve.lepton_pt_\"]\n",
    "print(ptArray)\n",
    "len(ptArray)\n"
   ]
  },
  {
   "cell_type": "code",
   "execution_count": 105,
   "metadata": {},
   "outputs": [],
   "source": []
  },
  {
   "cell_type": "code",
   "execution_count": null,
   "metadata": {},
   "outputs": [],
   "source": []
  },
  {
   "cell_type": "code",
   "execution_count": null,
   "metadata": {},
   "outputs": [],
   "source": []
  },
  {
   "cell_type": "raw",
   "metadata": {},
   "source": []
  },
  {
   "cell_type": "code",
   "execution_count": null,
   "metadata": {},
   "outputs": [],
   "source": []
  }
 ],
 "metadata": {
  "kernelspec": {
   "display_name": "Python 3",
   "language": "python",
   "name": "python3"
  },
  "language_info": {
   "codemirror_mode": {
    "name": "ipython",
    "version": 3
   },
   "file_extension": ".py",
   "mimetype": "text/x-python",
   "name": "python",
   "nbconvert_exporter": "python",
   "pygments_lexer": "ipython3",
   "version": "3.6.5"
  }
 },
 "nbformat": 4,
 "nbformat_minor": 2
}
